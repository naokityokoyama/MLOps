{
  "nbformat": 4,
  "nbformat_minor": 0,
  "metadata": {
    "colab": {
      "name": "Deploy_House_env_auth_pickle_pipfreeze.ipynb",
      "provenance": [],
      "collapsed_sections": []
    },
    "kernelspec": {
      "name": "python3",
      "display_name": "Python 3"
    }
  },
  "cells": [
    {
      "cell_type": "code",
      "metadata": {
        "id": "Aloem18wGPHc"
      },
      "source": [
        "import pandas as pd\r\n",
        "from sklearn.model_selection import train_test_split\r\n",
        "from sklearn.linear_model import LinearRegression\r\n",
        "import pickle\r\n",
        "from google.colab import files"
      ],
      "execution_count": null,
      "outputs": []
    },
    {
      "cell_type": "code",
      "metadata": {
        "colab": {
          "base_uri": "https://localhost:8080/",
          "height": 197
        },
        "id": "tkHy7riuHFEr",
        "outputId": "6cb27c4a-398a-4248-90ca-ff92496993dc"
      },
      "source": [
        "data = pd.read_csv('/content/casas.csv')\r\n",
        "data.head()"
      ],
      "execution_count": null,
      "outputs": [
        {
          "output_type": "execute_result",
          "data": {
            "text/html": [
              "<div>\n",
              "<style scoped>\n",
              "    .dataframe tbody tr th:only-of-type {\n",
              "        vertical-align: middle;\n",
              "    }\n",
              "\n",
              "    .dataframe tbody tr th {\n",
              "        vertical-align: top;\n",
              "    }\n",
              "\n",
              "    .dataframe thead th {\n",
              "        text-align: right;\n",
              "    }\n",
              "</style>\n",
              "<table border=\"1\" class=\"dataframe\">\n",
              "  <thead>\n",
              "    <tr style=\"text-align: right;\">\n",
              "      <th></th>\n",
              "      <th>tamanho</th>\n",
              "      <th>ano</th>\n",
              "      <th>garagem</th>\n",
              "      <th>preco</th>\n",
              "    </tr>\n",
              "  </thead>\n",
              "  <tbody>\n",
              "    <tr>\n",
              "      <th>0</th>\n",
              "      <td>159.0</td>\n",
              "      <td>2003</td>\n",
              "      <td>2</td>\n",
              "      <td>208500</td>\n",
              "    </tr>\n",
              "    <tr>\n",
              "      <th>1</th>\n",
              "      <td>117.0</td>\n",
              "      <td>1976</td>\n",
              "      <td>2</td>\n",
              "      <td>181500</td>\n",
              "    </tr>\n",
              "    <tr>\n",
              "      <th>2</th>\n",
              "      <td>166.0</td>\n",
              "      <td>2001</td>\n",
              "      <td>2</td>\n",
              "      <td>223500</td>\n",
              "    </tr>\n",
              "    <tr>\n",
              "      <th>3</th>\n",
              "      <td>160.0</td>\n",
              "      <td>1915</td>\n",
              "      <td>3</td>\n",
              "      <td>140000</td>\n",
              "    </tr>\n",
              "    <tr>\n",
              "      <th>4</th>\n",
              "      <td>204.0</td>\n",
              "      <td>2000</td>\n",
              "      <td>3</td>\n",
              "      <td>250000</td>\n",
              "    </tr>\n",
              "  </tbody>\n",
              "</table>\n",
              "</div>"
            ],
            "text/plain": [
              "   tamanho   ano  garagem   preco\n",
              "0    159.0  2003        2  208500\n",
              "1    117.0  1976        2  181500\n",
              "2    166.0  2001        2  223500\n",
              "3    160.0  1915        3  140000\n",
              "4    204.0  2000        3  250000"
            ]
          },
          "metadata": {
            "tags": []
          },
          "execution_count": 9
        }
      ]
    },
    {
      "cell_type": "code",
      "metadata": {
        "colab": {
          "base_uri": "https://localhost:8080/"
        },
        "id": "F1rF3ZYqHKvN",
        "outputId": "0e80bd9b-cb6d-4f56-bf4f-a61d23771e73"
      },
      "source": [
        "data.isnull().sum()"
      ],
      "execution_count": null,
      "outputs": [
        {
          "output_type": "execute_result",
          "data": {
            "text/plain": [
              "tamanho    0\n",
              "ano        0\n",
              "garagem    0\n",
              "preco      0\n",
              "dtype: int64"
            ]
          },
          "metadata": {
            "tags": []
          },
          "execution_count": 10
        }
      ]
    },
    {
      "cell_type": "code",
      "metadata": {
        "id": "-12yyZKDHNUQ"
      },
      "source": [
        "colunas = ['tamanho', 'preco']"
      ],
      "execution_count": null,
      "outputs": []
    },
    {
      "cell_type": "code",
      "metadata": {
        "id": "vPWHzYTSH6WN"
      },
      "source": [
        "df = data[colunas]"
      ],
      "execution_count": null,
      "outputs": []
    },
    {
      "cell_type": "code",
      "metadata": {
        "id": "WXpcRxyeH9fK"
      },
      "source": [
        "X = df.drop('preco', axis=1)\r\n",
        "y = df.preco"
      ],
      "execution_count": null,
      "outputs": []
    },
    {
      "cell_type": "code",
      "metadata": {
        "id": "mP4QRzFCINp9"
      },
      "source": [
        "X_train, X_test, y_train, y_test = train_test_split(X,y , test_size=0.3, random_state=42)"
      ],
      "execution_count": null,
      "outputs": []
    },
    {
      "cell_type": "code",
      "metadata": {
        "colab": {
          "base_uri": "https://localhost:8080/"
        },
        "id": "DAH_z4iwI2Z_",
        "outputId": "821f1d7d-5059-4d80-8fdd-012d60f404f6"
      },
      "source": [
        "regressao = LinearRegression()\r\n",
        "regressao.fit(X_train, y_train)"
      ],
      "execution_count": null,
      "outputs": [
        {
          "output_type": "execute_result",
          "data": {
            "text/plain": [
              "LinearRegression(copy_X=True, fit_intercept=True, n_jobs=None, normalize=False)"
            ]
          },
          "metadata": {
            "tags": []
          },
          "execution_count": 19
        }
      ]
    },
    {
      "cell_type": "code",
      "metadata": {
        "colab": {
          "base_uri": "https://localhost:8080/"
        },
        "id": "QJSRLMu_I9VY",
        "outputId": "5a187710-4703-4b23-8afb-b1b6738b5493"
      },
      "source": [
        "regressao.score(X_train, y_train)"
      ],
      "execution_count": null,
      "outputs": [
        {
          "output_type": "execute_result",
          "data": {
            "text/plain": [
              "0.47512046356329357"
            ]
          },
          "metadata": {
            "tags": []
          },
          "execution_count": 21
        }
      ]
    },
    {
      "cell_type": "code",
      "metadata": {
        "colab": {
          "base_uri": "https://localhost:8080/"
        },
        "id": "fGfSBMrPMVUf",
        "outputId": "a921febb-02aa-4cda-e951-c061b34c27b0"
      },
      "source": [
        "regressao.predict([[120]])"
      ],
      "execution_count": null,
      "outputs": [
        {
          "output_type": "execute_result",
          "data": {
            "text/plain": [
              "array([157377.06185642])"
            ]
          },
          "metadata": {
            "tags": []
          },
          "execution_count": 22
        }
      ]
    },
    {
      "cell_type": "markdown",
      "metadata": {
        "id": "FqWf2Zpao1jk"
      },
      "source": [
        "API"
      ]
    },
    {
      "cell_type": "code",
      "metadata": {
        "id": "ogI22BmVo2cf"
      },
      "source": [
        "app = Flask(__name__)\r\n",
        "\r\n",
        "@app.route('/cotacao/<int:tamanho>')\r\n",
        "\r\n",
        "def cotacao(tamanho):\r\n",
        "    preco = modelo.predict([[tamanho]])\r\n",
        "    return str(preco)  #no html precisa ser em string \r\n",
        "\r\n",
        "\r\n",
        "app.run()"
      ],
      "execution_count": null,
      "outputs": []
    },
    {
      "cell_type": "markdown",
      "metadata": {
        "id": "QIqWclUIpG6M"
      },
      "source": [
        "Mais variaveis"
      ]
    },
    {
      "cell_type": "code",
      "metadata": {
        "colab": {
          "base_uri": "https://localhost:8080/",
          "height": 406
        },
        "id": "GXxfbjmqpIku",
        "outputId": "0809cba9-b178-490a-edca-5b474b587b67"
      },
      "source": [
        "data"
      ],
      "execution_count": null,
      "outputs": [
        {
          "output_type": "execute_result",
          "data": {
            "text/html": [
              "<div>\n",
              "<style scoped>\n",
              "    .dataframe tbody tr th:only-of-type {\n",
              "        vertical-align: middle;\n",
              "    }\n",
              "\n",
              "    .dataframe tbody tr th {\n",
              "        vertical-align: top;\n",
              "    }\n",
              "\n",
              "    .dataframe thead th {\n",
              "        text-align: right;\n",
              "    }\n",
              "</style>\n",
              "<table border=\"1\" class=\"dataframe\">\n",
              "  <thead>\n",
              "    <tr style=\"text-align: right;\">\n",
              "      <th></th>\n",
              "      <th>tamanho</th>\n",
              "      <th>ano</th>\n",
              "      <th>garagem</th>\n",
              "      <th>preco</th>\n",
              "    </tr>\n",
              "  </thead>\n",
              "  <tbody>\n",
              "    <tr>\n",
              "      <th>0</th>\n",
              "      <td>159.0</td>\n",
              "      <td>2003</td>\n",
              "      <td>2</td>\n",
              "      <td>208500</td>\n",
              "    </tr>\n",
              "    <tr>\n",
              "      <th>1</th>\n",
              "      <td>117.0</td>\n",
              "      <td>1976</td>\n",
              "      <td>2</td>\n",
              "      <td>181500</td>\n",
              "    </tr>\n",
              "    <tr>\n",
              "      <th>2</th>\n",
              "      <td>166.0</td>\n",
              "      <td>2001</td>\n",
              "      <td>2</td>\n",
              "      <td>223500</td>\n",
              "    </tr>\n",
              "    <tr>\n",
              "      <th>3</th>\n",
              "      <td>160.0</td>\n",
              "      <td>1915</td>\n",
              "      <td>3</td>\n",
              "      <td>140000</td>\n",
              "    </tr>\n",
              "    <tr>\n",
              "      <th>4</th>\n",
              "      <td>204.0</td>\n",
              "      <td>2000</td>\n",
              "      <td>3</td>\n",
              "      <td>250000</td>\n",
              "    </tr>\n",
              "    <tr>\n",
              "      <th>...</th>\n",
              "      <td>...</td>\n",
              "      <td>...</td>\n",
              "      <td>...</td>\n",
              "      <td>...</td>\n",
              "    </tr>\n",
              "    <tr>\n",
              "      <th>1455</th>\n",
              "      <td>153.0</td>\n",
              "      <td>1999</td>\n",
              "      <td>2</td>\n",
              "      <td>175000</td>\n",
              "    </tr>\n",
              "    <tr>\n",
              "      <th>1456</th>\n",
              "      <td>193.0</td>\n",
              "      <td>1978</td>\n",
              "      <td>2</td>\n",
              "      <td>210000</td>\n",
              "    </tr>\n",
              "    <tr>\n",
              "      <th>1457</th>\n",
              "      <td>217.0</td>\n",
              "      <td>1941</td>\n",
              "      <td>1</td>\n",
              "      <td>266500</td>\n",
              "    </tr>\n",
              "    <tr>\n",
              "      <th>1458</th>\n",
              "      <td>100.0</td>\n",
              "      <td>1950</td>\n",
              "      <td>1</td>\n",
              "      <td>142125</td>\n",
              "    </tr>\n",
              "    <tr>\n",
              "      <th>1459</th>\n",
              "      <td>117.0</td>\n",
              "      <td>1965</td>\n",
              "      <td>1</td>\n",
              "      <td>147500</td>\n",
              "    </tr>\n",
              "  </tbody>\n",
              "</table>\n",
              "<p>1460 rows × 4 columns</p>\n",
              "</div>"
            ],
            "text/plain": [
              "      tamanho   ano  garagem   preco\n",
              "0       159.0  2003        2  208500\n",
              "1       117.0  1976        2  181500\n",
              "2       166.0  2001        2  223500\n",
              "3       160.0  1915        3  140000\n",
              "4       204.0  2000        3  250000\n",
              "...       ...   ...      ...     ...\n",
              "1455    153.0  1999        2  175000\n",
              "1456    193.0  1978        2  210000\n",
              "1457    217.0  1941        1  266500\n",
              "1458    100.0  1950        1  142125\n",
              "1459    117.0  1965        1  147500\n",
              "\n",
              "[1460 rows x 4 columns]"
            ]
          },
          "metadata": {
            "tags": []
          },
          "execution_count": 24
        }
      ]
    },
    {
      "cell_type": "code",
      "metadata": {
        "id": "GiEGYig1pMFX"
      },
      "source": [
        "X = data.drop('preco', axis=1)\r\n",
        "y = data.preco"
      ],
      "execution_count": null,
      "outputs": []
    },
    {
      "cell_type": "code",
      "metadata": {
        "id": "4Dds89V8pURw"
      },
      "source": [
        "X_train, X_test, y_train, y_test = train_test_split(X,y, test_size=0.3, random_state=42)"
      ],
      "execution_count": null,
      "outputs": []
    },
    {
      "cell_type": "code",
      "metadata": {
        "colab": {
          "base_uri": "https://localhost:8080/"
        },
        "id": "H09LPkrgqtO7",
        "outputId": "cb7504f8-966c-445f-f338-097ccd9b45ad"
      },
      "source": [
        "regressao = LinearRegression()\r\n",
        "regressao.fit(X_train, y_train)"
      ],
      "execution_count": null,
      "outputs": [
        {
          "output_type": "execute_result",
          "data": {
            "text/plain": [
              "LinearRegression(copy_X=True, fit_intercept=True, n_jobs=None, normalize=False)"
            ]
          },
          "metadata": {
            "tags": []
          },
          "execution_count": 30
        }
      ]
    },
    {
      "cell_type": "code",
      "metadata": {
        "colab": {
          "base_uri": "https://localhost:8080/"
        },
        "id": "sNLGJoRlq1c2",
        "outputId": "2faa514f-c0ae-4faa-ba84-b5359b4b75c3"
      },
      "source": [
        "regressao.predict([[120, 2001, 2]])"
      ],
      "execution_count": null,
      "outputs": [
        {
          "output_type": "execute_result",
          "data": {
            "text/plain": [
              "array([191436.53503831])"
            ]
          },
          "metadata": {
            "tags": []
          },
          "execution_count": 32
        }
      ]
    },
    {
      "cell_type": "markdown",
      "metadata": {
        "id": "L4LtbRKA5H8R"
      },
      "source": [
        "Postman -> new request -> modo post e no body opcao raw e colar o json abaixo\r\n",
        "\r\n",
        "header -> keys : content type / values: application json"
      ]
    },
    {
      "cell_type": "code",
      "metadata": {
        "colab": {
          "base_uri": "https://localhost:8080/"
        },
        "id": "7bRVHhljrhy9",
        "outputId": "e6611fb3-8301-4295-f776-260cfa817d23"
      },
      "source": [
        "{\r\n",
        "    \"tamanho\":120,\r\n",
        "    \"ano\":2001,\r\n",
        "    \"garagem\":2\r\n",
        " \r\n",
        "}"
      ],
      "execution_count": null,
      "outputs": [
        {
          "output_type": "execute_result",
          "data": {
            "text/plain": [
              "{'ano': 2001, 'garagem': 2, 'tamanho': 120}"
            ]
          },
          "metadata": {
            "tags": []
          },
          "execution_count": 33
        }
      ]
    },
    {
      "cell_type": "markdown",
      "metadata": {
        "id": "ZTcjIv0j9h8h"
      },
      "source": [
        "API 2"
      ]
    },
    {
      "cell_type": "code",
      "metadata": {
        "id": "AXaDHj_o9xXD"
      },
      "source": [
        "from flask import Flask, request, jsonify"
      ],
      "execution_count": null,
      "outputs": []
    },
    {
      "cell_type": "code",
      "metadata": {
        "colab": {
          "base_uri": "https://localhost:8080/"
        },
        "id": "DytVfp3w9zok",
        "outputId": "7e7c3135-82e1-46b5-a39c-45285510bc4a"
      },
      "source": [
        "colunas = ['tamanho', 'ano', 'garagem'] #colunas do predict usada dentro do list comprehetion\r\n",
        "df = pd.read_csv('casas.csv')\r\n",
        "\r\n",
        "X = df.drop('preco', axis=1)\r\n",
        "y=df.preco\r\n",
        "\r\n",
        "X_train, X_test , y_train, y_test = train_test_split(X,y ,test_size=0.3, random_state=42)\r\n",
        "modelo = LinearRegression()\r\n",
        "\r\n",
        "modelo.fit(X_train, y_train)"
      ],
      "execution_count": null,
      "outputs": [
        {
          "output_type": "execute_result",
          "data": {
            "text/plain": [
              "LinearRegression(copy_X=True, fit_intercept=True, n_jobs=None, normalize=False)"
            ]
          },
          "metadata": {
            "tags": []
          },
          "execution_count": 37
        }
      ]
    },
    {
      "cell_type": "code",
      "metadata": {
        "colab": {
          "base_uri": "https://localhost:8080/"
        },
        "id": "SqQ8tr9c9mDN",
        "outputId": "019ec534-bdeb-4c38-ee94-d6e2ee227926"
      },
      "source": [
        "#API\r\n",
        "app = Flask(__name__)\r\n",
        "\r\n",
        "@app.route('/cotacao/', methods=['POST']) # para passar json usamos o post\r\n",
        "\r\n",
        "def cotacao():  #pode ser qualquer nome \r\n",
        "    dados = request.get_json()  #request json\r\n",
        "    dados_input = [dados[x] for x in colunas]  #for das colunas\r\n",
        "    preco = modelo.predict([dados_input]) #predict das colunas \r\n",
        "    return jsonify(preco=preco[0]) #preco na posição 0\r\n",
        "\r\n",
        "\r\n",
        "app.run()"
      ],
      "execution_count": null,
      "outputs": [
        {
          "output_type": "stream",
          "text": [
            " * Serving Flask app \"__main__\" (lazy loading)\n",
            " * Environment: production\n",
            "\u001b[31m   WARNING: This is a development server. Do not use it in a production deployment.\u001b[0m\n",
            "\u001b[2m   Use a production WSGI server instead.\u001b[0m\n",
            " * Debug mode: off\n"
          ],
          "name": "stdout"
        },
        {
          "output_type": "stream",
          "text": [
            " * Running on http://127.0.0.1:5000/ (Press CTRL+C to quit)\n"
          ],
          "name": "stderr"
        }
      ]
    },
    {
      "cell_type": "code",
      "metadata": {
        "id": "kVISdjVf97QB"
      },
      "source": [
        "def nome():\r\n",
        "  dados =request.get_json()"
      ],
      "execution_count": null,
      "outputs": []
    },
    {
      "cell_type": "markdown",
      "metadata": {
        "id": "4XML0NOj_2S-"
      },
      "source": [
        "Agora usando o Pickle"
      ]
    },
    {
      "cell_type": "code",
      "metadata": {
        "id": "zBTUDmWm_4WV"
      },
      "source": [
        "pickle.dump(modelo, open('modelo.sav', 'wb'))"
      ],
      "execution_count": null,
      "outputs": []
    },
    {
      "cell_type": "code",
      "metadata": {
        "colab": {
          "base_uri": "https://localhost:8080/",
          "height": 16
        },
        "id": "bzUPYpe7AGtE",
        "outputId": "5f0cc144-b14b-4e36-a88f-de3baf7b86cb"
      },
      "source": [
        "files.download('modelo.sav')"
      ],
      "execution_count": null,
      "outputs": [
        {
          "output_type": "display_data",
          "data": {
            "application/javascript": [
              "\n",
              "    async function download(id, filename, size) {\n",
              "      if (!google.colab.kernel.accessAllowed) {\n",
              "        return;\n",
              "      }\n",
              "      const div = document.createElement('div');\n",
              "      const label = document.createElement('label');\n",
              "      label.textContent = `Downloading \"${filename}\": `;\n",
              "      div.appendChild(label);\n",
              "      const progress = document.createElement('progress');\n",
              "      progress.max = size;\n",
              "      div.appendChild(progress);\n",
              "      document.body.appendChild(div);\n",
              "\n",
              "      const buffers = [];\n",
              "      let downloaded = 0;\n",
              "\n",
              "      const channel = await google.colab.kernel.comms.open(id);\n",
              "      // Send a message to notify the kernel that we're ready.\n",
              "      channel.send({})\n",
              "\n",
              "      for await (const message of channel.messages) {\n",
              "        // Send a message to notify the kernel that we're ready.\n",
              "        channel.send({})\n",
              "        if (message.buffers) {\n",
              "          for (const buffer of message.buffers) {\n",
              "            buffers.push(buffer);\n",
              "            downloaded += buffer.byteLength;\n",
              "            progress.value = downloaded;\n",
              "          }\n",
              "        }\n",
              "      }\n",
              "      const blob = new Blob(buffers, {type: 'application/binary'});\n",
              "      const a = document.createElement('a');\n",
              "      a.href = window.URL.createObjectURL(blob);\n",
              "      a.download = filename;\n",
              "      div.appendChild(a);\n",
              "      a.click();\n",
              "      div.remove();\n",
              "    }\n",
              "  "
            ],
            "text/plain": [
              "<IPython.core.display.Javascript object>"
            ]
          },
          "metadata": {
            "tags": []
          }
        },
        {
          "output_type": "display_data",
          "data": {
            "application/javascript": [
              "download(\"download_cc0378fd-8a54-4891-a35d-3a5ffc8cb1c2\", \"modelo.sav\", 551)"
            ],
            "text/plain": [
              "<IPython.core.display.Javascript object>"
            ]
          },
          "metadata": {
            "tags": []
          }
        }
      ]
    },
    {
      "cell_type": "markdown",
      "metadata": {
        "id": "HHg3aCGuLtyb"
      },
      "source": [
        "API 3 carregando pickle e tambem o basic auth \r\n",
        "\r\n",
        "no postman tem que ir em autenticação e autorizar com usuario e senha"
      ]
    },
    {
      "cell_type": "code",
      "metadata": {
        "id": "lcYQx-ZbL5Bx"
      },
      "source": [
        "from flask import Flask, request, jsonify\r\n",
        "from flask_basicauth import BasicAuth #basica autenticação\r\n",
        "import pandas as pd\r\n",
        "from sklearn.linear_model import LinearRegression\r\n",
        "import pickle"
      ],
      "execution_count": null,
      "outputs": []
    },
    {
      "cell_type": "code",
      "metadata": {
        "id": "a2oIVR5bL3Kd"
      },
      "source": [
        "colunas = ['tamanho', 'ano', 'garagem'] \r\n",
        "modelo = pickle.load(open('modelo.sav', 'rb')) #carregando modelo\r\n",
        "\r\n",
        "app = Flask(__name__)\r\n",
        "\r\n",
        "app.config['BASIC_AUTH_USERNAME'] = 'naoki'\r\n",
        "app.config['BASIC_AUTH_PASSWORD'] = '1234'\r\n",
        "\r\n",
        "basic_auth = BasicAuth(app) #instanciando o basic auth\r\n",
        "\r\n",
        "@app.route('/cotacao/', methods=['POST']) # para passar json usamos o post\r\n",
        "@basic_auth.required #ativando a basic_auth\r\n",
        "def cotacao():\r\n",
        "    dados = request.get_json()\r\n",
        "    dados_input = [dados[x] for x in colunas]\r\n",
        "    preco = modelo.predict([dados_input])\r\n",
        "    return jsonify(preco=preco[0])\r\n",
        "\r\n",
        "\r\n",
        "app.run()"
      ],
      "execution_count": null,
      "outputs": []
    },
    {
      "cell_type": "markdown",
      "metadata": {
        "id": "-h3ABkiVRSV8"
      },
      "source": [
        "API usando o requests"
      ]
    },
    {
      "cell_type": "code",
      "metadata": {
        "id": "nq8TA_zhRUsk"
      },
      "source": [
        "import requests"
      ],
      "execution_count": null,
      "outputs": []
    },
    {
      "cell_type": "code",
      "metadata": {
        "id": "_jTrtlOXRYve"
      },
      "source": [
        "url = 'http://127.0.0.1:5000/cotacao/'"
      ],
      "execution_count": null,
      "outputs": []
    },
    {
      "cell_type": "code",
      "metadata": {
        "id": "8j3k3AJYRab_"
      },
      "source": [
        "dados =  {\r\n",
        "    \"tamanho\":120,\r\n",
        "    \"ano\":2001,\r\n",
        "    \"garagem\":2\r\n",
        "}"
      ],
      "execution_count": null,
      "outputs": []
    },
    {
      "cell_type": "code",
      "metadata": {
        "id": "5wZy1vWIRcXQ"
      },
      "source": [
        "auth = requests.auth.HTTPBasicAuth('naoki', '1234')"
      ],
      "execution_count": null,
      "outputs": []
    },
    {
      "cell_type": "code",
      "metadata": {
        "id": "OJS_PjRAReP_"
      },
      "source": [
        "response = requests.post(url, json=dados, auth=auth)"
      ],
      "execution_count": null,
      "outputs": []
    },
    {
      "cell_type": "code",
      "metadata": {
        "id": "HbvPhOSpRgJ8"
      },
      "source": [
        "response.status_code"
      ],
      "execution_count": null,
      "outputs": []
    },
    {
      "cell_type": "code",
      "metadata": {
        "id": "16HLqukERh5W"
      },
      "source": [
        "response.text"
      ],
      "execution_count": null,
      "outputs": []
    },
    {
      "cell_type": "code",
      "metadata": {
        "id": "5yO93tqvRjoO"
      },
      "source": [
        "response.json()"
      ],
      "execution_count": null,
      "outputs": []
    },
    {
      "cell_type": "markdown",
      "metadata": {
        "id": "uerbmKePVipJ"
      },
      "source": [
        "## Virtual env\r\n",
        "\r\n",
        "pip install virtuaenv\r\n",
        "\r\n",
        "virtualenv nome \r\n",
        "\r\n",
        "nome \\scripts\\activate (deactivate)"
      ]
    },
    {
      "cell_type": "markdown",
      "metadata": {
        "id": "LYO8CfsRbEHx"
      },
      "source": [
        "pip freeze"
      ]
    },
    {
      "cell_type": "code",
      "metadata": {
        "id": "0mu8ZXYWbFip"
      },
      "source": [
        "#salvar em txt as bibliotecas e versoes usadas no ambiente virtual\r\n",
        "pip freeze > requirements.txt\r\n",
        "\r\n",
        "#pip todas library\r\n",
        "pip install -r requeirements.txt"
      ],
      "execution_count": null,
      "outputs": []
    }
  ]
}